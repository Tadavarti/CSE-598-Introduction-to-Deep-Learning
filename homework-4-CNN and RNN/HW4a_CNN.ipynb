{
 "cells": [
  {
   "cell_type": "markdown",
   "metadata": {
    "id": "fwjwVM5CgtQ3"
   },
   "source": [
    "(Notebook modified from https://course.ccs.neu.edu/ds4440f20/)\n",
    "\n",
    "**Instructions:** Answer the four questions below in the notebook itself. Submit your notebook on Canvas and a pdf printout.\n",
    "\n",
    "\n",
    "### Convolutional Neural Networks\n",
    "\n",
    "A simple example to demonstrate the ideas introduced in lecture and (relatively)\n",
    " simple exercises"
   ]
  },
  {
   "cell_type": "code",
   "execution_count": 1,
   "metadata": {
    "id": "KL7QrOeVgZVW"
   },
   "outputs": [],
   "source": [
    "import torch\n",
    "from torch import nn\n",
    "\n",
    "import torchvision\n",
    "from torchvision import transforms"
   ]
  },
  {
   "cell_type": "code",
   "execution_count": 2,
   "metadata": {
    "colab": {
     "base_uri": "https://localhost:8080/",
     "height": 471,
     "referenced_widgets": [
      "9549b357bc804943a3080b5a5f4599b7",
      "14ee8029e4f94115a62c7bca1f8bd648",
      "3046159ace494b69954d49edaf043a58",
      "99fb73a362af4aa295c26fac3ecad8a3",
      "a89a59e4882a45839e80112b2bfa8217",
      "81ee324a356d4c799257cc036a08f014",
      "c855099a3efb4522aad267305c38c863",
      "5b9d4d1419c84148bc8628f1464fd35d",
      "a2231c29e64a48bba27e7c0c3c67e491",
      "baa05cad07d54757ae303246e3c7ddec",
      "ba7af3200d5143a4bfb94efea0f6985a",
      "52b7e41a21944074be571f55551f753d",
      "1ec71b1741054400a5308f08e45285f8",
      "74d28e15a63a4a8f848f10cc9bbb4d41",
      "02084f880ff04619a32fe7f184a419d0",
      "77aafa94277b487886a0441ce8e8df2d",
      "99f8538055484fad8d7b9c183b49ff35",
      "104a06289af944a08a7ff1b5c96a61db",
      "bf0e1e7fa5344284a22d94ecd8b4ffac",
      "6f7e2aa05ca64b91b592b48abefb007c",
      "f4756db1a2364b2d89d9da13d299155a",
      "d2022ad107144a8088d4b005882ef123",
      "049cb01449774fe9a5f40294367729c5",
      "2c4efc7f8a5743edb01136b2b110ddb3",
      "69c6942d7a4e444fabf428f0d51d8f50",
      "4305a3595fce43fbadb51c8e45752c06",
      "0a3ce92e9e4842d8a11c6b822c1f4421",
      "91c509bb6fc14baeb2a1fc6d172e9976",
      "146e1926c8d34773b109a1b37022028a",
      "d6cda2003c374c06845a1df802fccda7",
      "baa3829a5cd84d59a206b03a535b50b9",
      "79336a4f20074a80a850e7ea413a2fa2",
      "e74c68150fa04da7bb7a7eccaab72933",
      "3e3280589f2145faaa10af5342be5b7e",
      "3b3f47a323e34c7c84faabc2a08ef123",
      "4c5db5bd4bb341ab8359e04bebc19e94",
      "1d4223328b994e77a4fdc64df9d3c3f8",
      "bfddd038d7dc4e1da9b8b83f226b5cec",
      "e23be886ecf74827863858fbd7630321",
      "7024e26b11094240aa4bb4285fac4f31",
      "decc825e294b4e65af698f1b97259496",
      "87a1b7eef5b44c2db2c7ee6a9bfc06fc",
      "844d339599a542a3b4632756c8483d5b",
      "a6e4afc62b4e438eaba0a360c7b36347"
     ]
    },
    "id": "y2UO5VKwhCAs",
    "outputId": "f6591b71-6a8a-4850-bffe-fd2caf5284d5"
   },
   "outputs": [
    {
     "name": "stdout",
     "output_type": "stream",
     "text": [
      "Downloading http://fashion-mnist.s3-website.eu-central-1.amazonaws.com/train-images-idx3-ubyte.gz\n",
      "Downloading http://fashion-mnist.s3-website.eu-central-1.amazonaws.com/train-images-idx3-ubyte.gz to ./data/FashionMNIST/raw/train-images-idx3-ubyte.gz\n"
     ]
    },
    {
     "data": {
      "application/vnd.jupyter.widget-view+json": {
       "model_id": "9549b357bc804943a3080b5a5f4599b7",
       "version_major": 2,
       "version_minor": 0
      },
      "text/plain": [
       "  0%|          | 0/26421880 [00:00<?, ?it/s]"
      ]
     },
     "metadata": {},
     "output_type": "display_data"
    },
    {
     "name": "stdout",
     "output_type": "stream",
     "text": [
      "Extracting ./data/FashionMNIST/raw/train-images-idx3-ubyte.gz to ./data/FashionMNIST/raw\n",
      "\n",
      "Downloading http://fashion-mnist.s3-website.eu-central-1.amazonaws.com/train-labels-idx1-ubyte.gz\n",
      "Downloading http://fashion-mnist.s3-website.eu-central-1.amazonaws.com/train-labels-idx1-ubyte.gz to ./data/FashionMNIST/raw/train-labels-idx1-ubyte.gz\n"
     ]
    },
    {
     "data": {
      "application/vnd.jupyter.widget-view+json": {
       "model_id": "52b7e41a21944074be571f55551f753d",
       "version_major": 2,
       "version_minor": 0
      },
      "text/plain": [
       "  0%|          | 0/29515 [00:00<?, ?it/s]"
      ]
     },
     "metadata": {},
     "output_type": "display_data"
    },
    {
     "name": "stdout",
     "output_type": "stream",
     "text": [
      "Extracting ./data/FashionMNIST/raw/train-labels-idx1-ubyte.gz to ./data/FashionMNIST/raw\n",
      "\n",
      "Downloading http://fashion-mnist.s3-website.eu-central-1.amazonaws.com/t10k-images-idx3-ubyte.gz\n",
      "Downloading http://fashion-mnist.s3-website.eu-central-1.amazonaws.com/t10k-images-idx3-ubyte.gz to ./data/FashionMNIST/raw/t10k-images-idx3-ubyte.gz\n"
     ]
    },
    {
     "data": {
      "application/vnd.jupyter.widget-view+json": {
       "model_id": "049cb01449774fe9a5f40294367729c5",
       "version_major": 2,
       "version_minor": 0
      },
      "text/plain": [
       "  0%|          | 0/4422102 [00:00<?, ?it/s]"
      ]
     },
     "metadata": {},
     "output_type": "display_data"
    },
    {
     "name": "stdout",
     "output_type": "stream",
     "text": [
      "Extracting ./data/FashionMNIST/raw/t10k-images-idx3-ubyte.gz to ./data/FashionMNIST/raw\n",
      "\n",
      "Downloading http://fashion-mnist.s3-website.eu-central-1.amazonaws.com/t10k-labels-idx1-ubyte.gz\n",
      "Downloading http://fashion-mnist.s3-website.eu-central-1.amazonaws.com/t10k-labels-idx1-ubyte.gz to ./data/FashionMNIST/raw/t10k-labels-idx1-ubyte.gz\n"
     ]
    },
    {
     "data": {
      "application/vnd.jupyter.widget-view+json": {
       "model_id": "3e3280589f2145faaa10af5342be5b7e",
       "version_major": 2,
       "version_minor": 0
      },
      "text/plain": [
       "  0%|          | 0/5148 [00:00<?, ?it/s]"
      ]
     },
     "metadata": {},
     "output_type": "display_data"
    },
    {
     "name": "stdout",
     "output_type": "stream",
     "text": [
      "Extracting ./data/FashionMNIST/raw/t10k-labels-idx1-ubyte.gz to ./data/FashionMNIST/raw\n",
      "\n"
     ]
    },
    {
     "name": "stderr",
     "output_type": "stream",
     "text": [
      "/usr/local/lib/python3.7/dist-packages/torchvision/datasets/mnist.py:498: UserWarning: The given NumPy array is not writeable, and PyTorch does not support non-writeable tensors. This means you can write to the underlying (supposedly non-writeable) NumPy array using the tensor. You may want to copy the array to protect its data or make it writeable before converting it to a tensor. This type of warning will be suppressed for the rest of this program. (Triggered internally at  /pytorch/torch/csrc/utils/tensor_numpy.cpp:180.)\n",
      "  return torch.from_numpy(parsed.astype(m[2], copy=False)).view(*s)\n"
     ]
    }
   ],
   "source": [
    "train_set = torchvision.datasets.FashionMNIST(\"./data\", download=True, transform=\n",
    "                                                transforms.Compose([transforms.ToTensor()]))\n",
    "test_set = torchvision.datasets.FashionMNIST(\"./data\", download=True, train=False, transform=\n",
    "                                               transforms.Compose([transforms.ToTensor()]))  "
   ]
  },
  {
   "cell_type": "markdown",
   "metadata": {
    "id": "1nux9q-Q4WDE"
   },
   "source": [
    "**Q1. Write code to answer the questiosn below:**\n",
    "- How many images are there in `train_data` and `test_data`?\n",
    "- How many labels are there in `train_data`?\n",
    "- What is the height and width of each image?\n",
    "\n",
    "The answer to Q1 is the code that outputs the answers to the questions above."
   ]
  },
  {
   "cell_type": "code",
   "execution_count": 8,
   "metadata": {
    "colab": {
     "base_uri": "https://localhost:8080/"
    },
    "id": "c2AnMAMchLEi",
    "outputId": "65399299-4c31-47a9-e58b-3df77dfa2b16"
   },
   "outputs": [
    {
     "name": "stdout",
     "output_type": "stream",
     "text": [
      "There are 60000 images in train_data and 10000 images in test_data \n",
      "There are 10 labels in train_data \n",
      "The height, weight of each image is [28, 28] respectively\n"
     ]
    }
   ],
   "source": [
    "## YOUR CODE GOES HERE\n",
    "\n",
    "print(\"There are \"+ str(len(train_set)) + \" images in train_data and \" + str(len(test_set)) + \" images in test_data \")\n",
    "print(\"There are \"+str(len(train_set.classes)) +\" labels in train_data \")\n",
    "print(\"The height, weight of each image is \"+str(list(train_set.__getitem__(0)[0].size())[1:]) +\" respectively\")"
   ]
  },
  {
   "cell_type": "code",
   "execution_count": 10,
   "metadata": {
    "id": "k8bxnZGGhmnc"
   },
   "outputs": [],
   "source": [
    "# Note: the `out_channels` argument is what we referred to as the number of\n",
    "# filters in lecture. \n",
    "conv_layer = nn.Conv2d(in_channels=1, out_channels=5, stride=2, kernel_size=3)"
   ]
  },
  {
   "cell_type": "code",
   "execution_count": 11,
   "metadata": {
    "colab": {
     "base_uri": "https://localhost:8080/"
    },
    "id": "gIoags6lhvLM",
    "outputId": "d31b9e3e-d205-44bb-c93a-7f6adb2e4b84"
   },
   "outputs": [
    {
     "data": {
      "text/plain": [
       "torch.Size([5, 1, 3, 3])"
      ]
     },
     "execution_count": 11,
     "metadata": {},
     "output_type": "execute_result"
    }
   ],
   "source": [
    "conv_layer.weight.shape"
   ]
  },
  {
   "cell_type": "code",
   "execution_count": 13,
   "metadata": {
    "id": "tEedCGdtn1ZJ"
   },
   "outputs": [],
   "source": [
    "batch_size = 32\n",
    "train_loader = torch.utils.data.DataLoader(dataset=train_set,\n",
    "                                           batch_size=batch_size, \n",
    "                                           shuffle=True)\n",
    "\n",
    "test_loader = torch.utils.data.DataLoader(dataset=test_set,\n",
    "                                          batch_size=batch_size, \n",
    "                                          shuffle=False)"
   ]
  },
  {
   "cell_type": "markdown",
   "metadata": {
    "id": "iojorQrc6Np1"
   },
   "source": [
    "**Q2. Answer the following questions (no code required):**\n",
    "\n",
    "- What is the meaning of `shuffle=True` and `shuffle=False`\n",
    "- Why do we shuffle the train data?\n",
    "- Why don't we shuffle the test data?\n",
    "\n",
    "The answer to Q2 is a few sentences, no code required."
   ]
  },
  {
   "cell_type": "markdown",
   "metadata": {
    "id": "9g4z2DVCS68c"
   },
   "source": [
    "Ans\n",
    "  \n",
    "  1) If we give shuffle as true then data will be shuffled and if it is false then input data will not be shuffled.\n",
    "  \n",
    "  2) The order we give as input might effect the the neural network learning. So we will shuffle the data will sending input so that different labels can be send in different sequence.\n",
    "\n",
    "3)As Testing dataset not involved in training Neural network, there is no need to shuffle the data.\n"
   ]
  },
  {
   "cell_type": "markdown",
   "metadata": {
    "id": "NzV3w9mDnYML"
   },
   "source": [
    "### Full example\n",
    "\n",
    "Derived from: [https://github.com/yunjey/pytorch-tutorial](https://github.com/yunjey/pytorch-tutorial)."
   ]
  },
  {
   "cell_type": "code",
   "execution_count": 14,
   "metadata": {
    "colab": {
     "base_uri": "https://localhost:8080/"
    },
    "id": "5XaEe21IlQ7W",
    "outputId": "98c3bcfa-8152-47c5-93eb-a67f5f929c0f"
   },
   "outputs": [
    {
     "name": "stderr",
     "output_type": "stream",
     "text": [
      "/usr/local/lib/python3.7/dist-packages/torch/nn/functional.py:718: UserWarning: Named tensors and all their associated APIs are an experimental feature and subject to change. Please do not use them for anything important until they are released as stable. (Triggered internally at  /pytorch/c10/core/TensorImpl.h:1156.)\n",
      "  return torch.max_pool2d(input, kernel_size, stride, padding, dilation, ceil_mode)\n"
     ]
    },
    {
     "name": "stdout",
     "output_type": "stream",
     "text": [
      "Epoch [1/5], Step [100/1875], Loss: 0.6698\n",
      "Epoch [1/5], Step [200/1875], Loss: 0.4632\n",
      "Epoch [1/5], Step [300/1875], Loss: 0.6196\n",
      "Epoch [1/5], Step [400/1875], Loss: 0.2420\n",
      "Epoch [1/5], Step [500/1875], Loss: 0.3209\n",
      "Epoch [1/5], Step [600/1875], Loss: 0.4419\n",
      "Epoch [1/5], Step [700/1875], Loss: 0.4335\n",
      "Epoch [1/5], Step [800/1875], Loss: 0.2492\n",
      "Epoch [1/5], Step [900/1875], Loss: 0.1966\n",
      "Epoch [1/5], Step [1000/1875], Loss: 0.6796\n",
      "Epoch [1/5], Step [1100/1875], Loss: 0.1027\n",
      "Epoch [1/5], Step [1200/1875], Loss: 0.3895\n",
      "Epoch [1/5], Step [1300/1875], Loss: 0.3993\n",
      "Epoch [1/5], Step [1400/1875], Loss: 0.3690\n",
      "Epoch [1/5], Step [1500/1875], Loss: 0.2215\n",
      "Epoch [1/5], Step [1600/1875], Loss: 0.2232\n",
      "Epoch [1/5], Step [1700/1875], Loss: 0.2372\n",
      "Epoch [1/5], Step [1800/1875], Loss: 0.0884\n",
      "Epoch [2/5], Step [100/1875], Loss: 0.4224\n",
      "Epoch [2/5], Step [200/1875], Loss: 0.1256\n",
      "Epoch [2/5], Step [300/1875], Loss: 0.3107\n",
      "Epoch [2/5], Step [400/1875], Loss: 0.3697\n",
      "Epoch [2/5], Step [500/1875], Loss: 0.3340\n",
      "Epoch [2/5], Step [600/1875], Loss: 0.1836\n",
      "Epoch [2/5], Step [700/1875], Loss: 0.4081\n",
      "Epoch [2/5], Step [800/1875], Loss: 0.3380\n",
      "Epoch [2/5], Step [900/1875], Loss: 0.0968\n",
      "Epoch [2/5], Step [1000/1875], Loss: 0.4385\n",
      "Epoch [2/5], Step [1100/1875], Loss: 0.4335\n",
      "Epoch [2/5], Step [1200/1875], Loss: 0.2101\n",
      "Epoch [2/5], Step [1300/1875], Loss: 0.2864\n",
      "Epoch [2/5], Step [1400/1875], Loss: 0.2085\n",
      "Epoch [2/5], Step [1500/1875], Loss: 0.3407\n",
      "Epoch [2/5], Step [1600/1875], Loss: 0.2661\n",
      "Epoch [2/5], Step [1700/1875], Loss: 0.3935\n",
      "Epoch [2/5], Step [1800/1875], Loss: 0.4235\n",
      "Epoch [3/5], Step [100/1875], Loss: 0.1301\n",
      "Epoch [3/5], Step [200/1875], Loss: 0.1416\n",
      "Epoch [3/5], Step [300/1875], Loss: 0.2859\n",
      "Epoch [3/5], Step [400/1875], Loss: 0.5140\n",
      "Epoch [3/5], Step [500/1875], Loss: 0.2862\n",
      "Epoch [3/5], Step [600/1875], Loss: 0.3165\n",
      "Epoch [3/5], Step [700/1875], Loss: 0.2205\n",
      "Epoch [3/5], Step [800/1875], Loss: 0.0846\n",
      "Epoch [3/5], Step [900/1875], Loss: 0.2614\n",
      "Epoch [3/5], Step [1000/1875], Loss: 0.0566\n",
      "Epoch [3/5], Step [1100/1875], Loss: 0.1032\n",
      "Epoch [3/5], Step [1200/1875], Loss: 0.0192\n",
      "Epoch [3/5], Step [1300/1875], Loss: 0.3288\n",
      "Epoch [3/5], Step [1400/1875], Loss: 0.3407\n",
      "Epoch [3/5], Step [1500/1875], Loss: 0.2083\n",
      "Epoch [3/5], Step [1600/1875], Loss: 0.3437\n",
      "Epoch [3/5], Step [1700/1875], Loss: 0.2320\n",
      "Epoch [3/5], Step [1800/1875], Loss: 0.0560\n",
      "Epoch [4/5], Step [100/1875], Loss: 0.0891\n",
      "Epoch [4/5], Step [200/1875], Loss: 0.3164\n",
      "Epoch [4/5], Step [300/1875], Loss: 0.2067\n",
      "Epoch [4/5], Step [400/1875], Loss: 0.1668\n",
      "Epoch [4/5], Step [500/1875], Loss: 0.1163\n",
      "Epoch [4/5], Step [600/1875], Loss: 0.1313\n",
      "Epoch [4/5], Step [700/1875], Loss: 0.1876\n",
      "Epoch [4/5], Step [800/1875], Loss: 0.1148\n",
      "Epoch [4/5], Step [900/1875], Loss: 0.1589\n",
      "Epoch [4/5], Step [1000/1875], Loss: 0.1332\n",
      "Epoch [4/5], Step [1100/1875], Loss: 0.2191\n",
      "Epoch [4/5], Step [1200/1875], Loss: 0.1405\n",
      "Epoch [4/5], Step [1300/1875], Loss: 0.2926\n",
      "Epoch [4/5], Step [1400/1875], Loss: 0.2300\n",
      "Epoch [4/5], Step [1500/1875], Loss: 0.1572\n",
      "Epoch [4/5], Step [1600/1875], Loss: 0.2940\n",
      "Epoch [4/5], Step [1700/1875], Loss: 0.0870\n",
      "Epoch [4/5], Step [1800/1875], Loss: 0.2539\n",
      "Epoch [5/5], Step [100/1875], Loss: 0.1898\n",
      "Epoch [5/5], Step [200/1875], Loss: 0.1890\n",
      "Epoch [5/5], Step [300/1875], Loss: 0.3250\n",
      "Epoch [5/5], Step [400/1875], Loss: 0.1395\n",
      "Epoch [5/5], Step [500/1875], Loss: 0.3504\n",
      "Epoch [5/5], Step [600/1875], Loss: 0.0980\n",
      "Epoch [5/5], Step [700/1875], Loss: 0.2461\n",
      "Epoch [5/5], Step [800/1875], Loss: 0.1893\n",
      "Epoch [5/5], Step [900/1875], Loss: 0.3525\n",
      "Epoch [5/5], Step [1000/1875], Loss: 0.1970\n",
      "Epoch [5/5], Step [1100/1875], Loss: 0.0878\n",
      "Epoch [5/5], Step [1200/1875], Loss: 0.0866\n",
      "Epoch [5/5], Step [1300/1875], Loss: 0.1310\n",
      "Epoch [5/5], Step [1400/1875], Loss: 0.1694\n",
      "Epoch [5/5], Step [1500/1875], Loss: 0.0784\n",
      "Epoch [5/5], Step [1600/1875], Loss: 0.0714\n",
      "Epoch [5/5], Step [1700/1875], Loss: 0.3206\n",
      "Epoch [5/5], Step [1800/1875], Loss: 0.1154\n",
      "Test Accuracy of the model on the 10000 test images: 90.61 %\n"
     ]
    }
   ],
   "source": [
    "device = 'cuda'\n",
    "num_epochs = 5\n",
    "num_classes = 10\n",
    "learning_rate = 0.001\n",
    "\n",
    "# A simple convolutional neural network (two convolutional layers)\n",
    "class ConvNet(nn.Module):\n",
    "    def __init__(self, num_classes=10):\n",
    "        super(ConvNet, self).__init__()\n",
    "        self.layer1 = nn.Sequential(\n",
    "            nn.Conv2d(1, 16, kernel_size=5, stride=1, padding=2),\n",
    "            nn.BatchNorm2d(16),\n",
    "            nn.ReLU(),\n",
    "            nn.MaxPool2d(kernel_size=2, stride=2))\n",
    "        self.layer2 = nn.Sequential(\n",
    "            nn.Conv2d(16, 32, kernel_size=5, stride=1, padding=2),\n",
    "            nn.BatchNorm2d(32),\n",
    "            nn.ReLU(),\n",
    "            nn.MaxPool2d(kernel_size=2, stride=2))\n",
    "        self.fc = nn.Linear(7*7*32, num_classes)\n",
    "        \n",
    "    def forward(self, x):\n",
    "        out = self.layer1(x)\n",
    "        out = self.layer2(out)\n",
    "        out = out.reshape(out.size(0), -1)\n",
    "        out = self.fc(out)\n",
    "        return out\n",
    "\n",
    "model = ConvNet(num_classes).to(device)\n",
    "\n",
    "# Loss and optimizer\n",
    "criterion = nn.CrossEntropyLoss()\n",
    "optimizer = torch.optim.Adam(model.parameters(), lr=learning_rate)\n",
    "\n",
    "# Train the model\n",
    "total_step = len(train_loader)\n",
    "for epoch in range(num_epochs):\n",
    "    for i, (images, labels) in enumerate(train_loader):\n",
    "        images = images.to(device)\n",
    "        labels = labels.to(device)\n",
    "        \n",
    "        # Forward pass\n",
    "        outputs = model(images)\n",
    "        loss = criterion(outputs, labels)\n",
    "        \n",
    "        # Backward and optimize\n",
    "        optimizer.zero_grad()\n",
    "        loss.backward()\n",
    "        optimizer.step()\n",
    "        \n",
    "        if (i+1) % 100 == 0:\n",
    "            print ('Epoch [{}/{}], Step [{}/{}], Loss: {:.4f}' \n",
    "                   .format(epoch+1, num_epochs, i+1, total_step, loss.item()))\n",
    "\n",
    "# Test the model\n",
    "model.eval()  # eval mode (batchnorm uses moving mean/variance instead of mini-batch mean/variance)\n",
    "with torch.no_grad():\n",
    "    correct = 0\n",
    "    total = 0\n",
    "    for images, labels in test_loader:\n",
    "        images = images.to(device)\n",
    "        labels = labels.to(device)\n",
    "        outputs = model(images)\n",
    "        _, predicted = torch.max(outputs.data, 1)\n",
    "        total += labels.size(0)\n",
    "        correct += (predicted == labels).sum().item()\n",
    "\n",
    "    print('Test Accuracy of the model on the 10000 test images: {} %'.format(100 * correct / total))\n",
    "\n",
    "with torch.no_grad():\n",
    "    all_labels = []\n",
    "    all_preds = []\n",
    "    for images, labels in test_loader:\n",
    "        images = images.to(device)\n",
    "        labels = labels.to(device)\n",
    "        outputs = model(images)\n",
    "        _, predicted = torch.max(outputs.data, 1)\n",
    "        all_labels.extend(labels)\n",
    "        all_preds.extend(predicted)\n",
    "    ##\n",
    "    "
   ]
  },
  {
   "cell_type": "markdown",
   "metadata": {
    "id": "9_rB7YSh6l_2"
   },
   "source": [
    "**Q3. Answer the following question:** \n",
    "\n",
    "The implementation above uses Batch Normalization (`nn.BatchNorm2d(16)`)\n",
    "\n",
    "- Explain Batch Normalization with your own words. Get inspiration from here: https://d2l.ai/chapter_convolutional-modern/batch-norm.html (or any other source, but use your own words and an example)\n",
    "\n",
    "The answer to Q3 does not require any code, a good answer will have an intu explanation and an example (toy example is fine)."
   ]
  },
  {
   "cell_type": "markdown",
   "metadata": {
    "id": "cReDZyDCV_Bk"
   },
   "source": [
    "ANS \n",
    "\n",
    "For deep neural networks with large number of hidden layers, the inputs for layers deep in the network has very large magnitudes and magnitude only increases with the increase in the depth of the layer.\n",
    "\n",
    "In batch normalization we normalize the out put from the previous layer and feed it forward to the next layer inorder to converge the large networks and magnitudes.\n"
   ]
  },
  {
   "cell_type": "markdown",
   "metadata": {
    "id": "m-kWJGVF7Ukh"
   },
   "source": [
    "**Q4. Answer the questions below:**\n",
    "\n",
    "You will do a qualitative analysis beyond stating that the accuracy in the test set is `90.27%`.\n",
    "\n",
    "- Which labels are harder to get right? You will have to print the accuracy per label (sorted from low to high)\n",
    "- Generate a confusion matrix for the output of your model. A confusion matrix looks like the one here (toward the bottom): https://www.kaggle.com/fuzzywizard/fashion-mnist-cnn-keras-accuracy-93\n",
    "- Interpret the numbers you see in the confusion matrix. Does it make sense (intuitively, no proof required) that certain classes are more often confused?\n",
    "\n",
    "The answer to Q4 requires you to write some code and interpret the output of yout code. A good answer will have 2-3 paragraphs. You are expected to interpret the numbers, not just state the numbers in the confusion matrix."
   ]
  },
  {
   "cell_type": "code",
   "execution_count": 38,
   "metadata": {
    "id": "bjtVgY87Xg7_"
   },
   "outputs": [],
   "source": [
    "import matplotlib as mp\n",
    "import matplotlib.pyplot as plot\n",
    "import matplotlib.pylab as pylab\n",
    "import seaborn as sns\n",
    "import missingno as msn\n",
    "from sklearn.metrics import confusion_matrix, classification_report\n",
    "import matplotlib.pyplot as plt\n",
    "import numpy as np\n",
    "import itertools\n",
    "def plot_confusion_matrix(confmatrx,\n",
    "                          target_names,\n",
    "                          title='Confusion matrix',\n",
    "                          cmap=None,\n",
    "                          normalize=True):\n",
    "\n",
    "    accuracy = np.trace(confmatrx) / np.sum(confmatrx).astype('float')\n",
    "    misclass = 1 - accuracy\n",
    "\n",
    "    if cmap is None:\n",
    "        cmap = plt.get_cmap('Greens')\n",
    "\n",
    "    plt.figure(figsize=(15, 10))\n",
    "    plt.imshow(confmatrx, interpolation='nearest', cmap=cmap)\n",
    "    plt.title(title)\n",
    "    plt.colorbar()\n",
    "\n",
    "    if target_names is not None:\n",
    "        tick_marks = np.arange(len(target_names))\n",
    "        plt.xticks(tick_marks, target_names, rotation=45)\n",
    "        plt.yticks(tick_marks, target_names)\n",
    "\n",
    "    if normalize:\n",
    "        confmatrx = confmatrx.astype('float') / confmatrx.sum(axis=1)[:, np.newaxis]\n",
    "\n",
    "\n",
    "    thresh = confmatrx.max() / 1.5 if normalize else confmatrx.max() / 2\n",
    "    for i, j in itertools.product(range(confmatrx.shape[0]), range(confmatrx.shape[1])):\n",
    "        if normalize:\n",
    "            plt.text(j, i, \"{:0.4f}\".format(confmatrx[i, j]),\n",
    "                     horizontalalignment=\"center\",\n",
    "                     color=\"white\" if confmatrx[i, j] > thresh else \"black\")\n",
    "        else:\n",
    "            plt.text(j, i, \"{:,}\".format(confmatrx[i, j]),\n",
    "                     horizontalalignment=\"center\",\n",
    "                     color=\"white\" if confmatrx[i, j] > thresh else \"black\")\n",
    "\n",
    "\n",
    "    plot.tight_layout()\n",
    "    plot.ylabel('True label')\n",
    "    plot.xlabel('Predicted label\\naccuracy={:0.4f}; misclass={:0.4f}'.format(accuracy, misclass))\n",
    "    plot.show()\n"
   ]
  },
  {
   "cell_type": "code",
   "execution_count": 39,
   "metadata": {
    "colab": {
     "base_uri": "https://localhost:8080/",
     "height": 755
    },
    "id": "57XpixnDYNG0",
    "outputId": "80d72ed6-7637-43b8-a532-db2d7c6cb59a"
   },
   "outputs": [
    {
     "data": {
      "image/png": "[encoded data removed]",
      "text/plain": [
       "<Figure size 1080x720 with 2 Axes>"
      ]
     },
     "metadata": {
      "needs_background": "light"
     },
     "output_type": "display_data"
    }
   ],
   "source": [
    "all_labels_list=[i.item() for i in all_labels]\n",
    "all_preds_list=[i.item() for i in all_preds]\n",
    "plot_confusion_matrix(confmatrx=confusion_matrix(y_true=all_labels_list, y_pred=all_preds_list), target_names=train_set.classes, normalize=False)"
   ]
  },
  {
   "cell_type": "code",
   "execution_count": 42,
   "metadata": {
    "colab": {
     "base_uri": "https://localhost:8080/"
    },
    "id": "yydppTFxZVoK",
    "outputId": "671c879f-9ab1-4699-ea57-6fe3518c3a5a"
   },
   "outputs": [
    {
     "name": "stdout",
     "output_type": "stream",
     "text": [
      "Accuracy of Shirt : 74.8\n",
      "Accuracy of T-shirt/top : 79.9\n",
      "Accuracy of Coat : 86.7\n",
      "Accuracy of Pullover : 87.3\n",
      "Accuracy of Dress : 91.10000000000001\n",
      "Accuracy of Sneaker : 94.6\n",
      "Accuracy of Ankle boot : 96.0\n",
      "Accuracy of Bag : 97.5\n",
      "Accuracy of Trouser : 98.5\n",
      "Accuracy of Sandal : 99.7\n"
     ]
    }
   ],
   "source": [
    "class_count_true=[0]*len(train_set.classes)\n",
    "class_count_prediction=[0]*len(train_set.classes)\n",
    "for a,b in zip(all_labels_list,all_preds_list):\n",
    "  class_count_true[a]+=1\n",
    "  if a==b:\n",
    "    class_count_prediction[a]+=1\n",
    "class_pred={}\n",
    "for i in range(len(class_count_prediction)):\n",
    "  class_pred[train_set.classes[i]]=(class_count_prediction[i]/class_count_true[i])*100\n",
    "for i in sorted(class_pred.items(), key=lambda item: item[1]):\n",
    "  print(f\"Accuracy of {i[0]} : {i[1]}\")"
   ]
  },
  {
   "cell_type": "markdown",
   "metadata": {
    "id": "qRALy_6qZq0d"
   },
   "source": [
    "True positivity of Shirt is very less compared to other classes becuase the ground value of Shirt are being predicted as T-shirt.\n",
    "\n",
    "It can also be seen that sandal is also being confused with Sneaker a few times."
   ]
  }
 ],
 "metadata": {
  "accelerator": "GPU",
  "colab": {
   "collapsed_sections": [],
   "name": "HW4a",
   "provenance": []
  },
  "kernelspec": {
   "display_name": "Python 3",
   "language": "python",
   "name": "python3"
  },
  "language_info": {
   "codemirror_mode": {
    "name": "ipython",
    "version": 3
   },
   "file_extension": ".py",
   "mimetype": "text/x-python",
   "name": "python",
   "nbconvert_exporter": "python",
   "pygments_lexer": "ipython3",
   "version": "3.8.8"
  },
  "widgets": {
   "application/vnd.jupyter.widget-state+json": {
    "02084f880ff04619a32fe7f184a419d0": {
     "model_module": "@jupyter-widgets/controls",
     "model_module_version": "1.5.0",
     "model_name": "FloatProgressModel",
     "state": {
      "_dom_classes": [],
      "_model_module": "@jupyter-widgets/controls",
      "_model_module_version": "1.5.0",
      "_model_name": "FloatProgressModel",
      "_view_count": null,
      "_view_module": "@jupyter-widgets/controls",
      "_view_module_version": "1.5.0",
      "_view_name": "ProgressView",
      "bar_style": "success",
      "description": "",
      "description_tooltip": null,
      "layout": "IPY_MODEL_6f7e2aa05ca64b91b592b48abefb007c",
      "max": 29515,
      "min": 0,
      "orientation": "horizontal",
      "style": "IPY_MODEL_bf0e1e7fa5344284a22d94ecd8b4ffac",
      "value": 29515
     }
    },
    "049cb01449774fe9a5f40294367729c5": {
     "model_module": "@jupyter-widgets/controls",
     "model_module_version": "1.5.0",
     "model_name": "HBoxModel",
     "state": {
      "_dom_classes": [],
      "_model_module": "@jupyter-widgets/controls",
      "_model_module_version": "1.5.0",
      "_model_name": "HBoxModel",
      "_view_count": null,
      "_view_module": "@jupyter-widgets/controls",
      "_view_module_version": "1.5.0",
      "_view_name": "HBoxView",
      "box_style": "",
      "children": [
       "IPY_MODEL_69c6942d7a4e444fabf428f0d51d8f50",
       "IPY_MODEL_4305a3595fce43fbadb51c8e45752c06",
       "IPY_MODEL_0a3ce92e9e4842d8a11c6b822c1f4421"
      ],
      "layout": "IPY_MODEL_2c4efc7f8a5743edb01136b2b110ddb3"
     }
    },
    "0a3ce92e9e4842d8a11c6b822c1f4421": {
     "model_module": "@jupyter-widgets/controls",
     "model_module_version": "1.5.0",
     "model_name": "HTMLModel",
     "state": {
      "_dom_classes": [],
      "_model_module": "@jupyter-widgets/controls",
      "_model_module_version": "1.5.0",
      "_model_name": "HTMLModel",
      "_view_count": null,
      "_view_module": "@jupyter-widgets/controls",
      "_view_module_version": "1.5.0",
      "_view_name": "HTMLView",
      "description": "",
      "description_tooltip": null,
      "layout": "IPY_MODEL_e74c68150fa04da7bb7a7eccaab72933",
      "placeholder": "​",
      "style": "IPY_MODEL_79336a4f20074a80a850e7ea413a2fa2",
      "value": " 4422656/? [00:00&lt;00:00, 7312458.02it/s]"
     }
    },
    "104a06289af944a08a7ff1b5c96a61db": {
     "model_module": "@jupyter-widgets/base",
     "model_module_version": "1.2.0",
     "model_name": "LayoutModel",
     "state": {
      "_model_module": "@jupyter-widgets/base",
      "_model_module_version": "1.2.0",
      "_model_name": "LayoutModel",
      "_view_count": null,
      "_view_module": "@jupyter-widgets/base",
      "_view_module_version": "1.2.0",
      "_view_name": "LayoutView",
      "align_content": null,
      "align_items": null,
      "align_self": null,
      "border": null,
      "bottom": null,
      "display": null,
      "flex": null,
      "flex_flow": null,
      "grid_area": null,
      "grid_auto_columns": null,
      "grid_auto_flow": null,
      "grid_auto_rows": null,
      "grid_column": null,
      "grid_gap": null,
      "grid_row": null,
      "grid_template_areas": null,
      "grid_template_columns": null,
      "grid_template_rows": null,
      "height": null,
      "justify_content": null,
      "justify_items": null,
      "left": null,
      "margin": null,
      "max_height": null,
      "max_width": null,
      "min_height": null,
      "min_width": null,
      "object_fit": null,
      "object_position": null,
      "order": null,
      "overflow": null,
      "overflow_x": null,
      "overflow_y": null,
      "padding": null,
      "right": null,
      "top": null,
      "visibility": null,
      "width": null
     }
    },
    "146e1926c8d34773b109a1b37022028a": {
     "model_module": "@jupyter-widgets/base",
     "model_module_version": "1.2.0",
     "model_name": "LayoutModel",
     "state": {
      "_model_module": "@jupyter-widgets/base",
      "_model_module_version": "1.2.0",
      "_model_name": "LayoutModel",
      "_view_count": null,
      "_view_module": "@jupyter-widgets/base",
      "_view_module_version": "1.2.0",
      "_view_name": "LayoutView",
      "align_content": null,
      "align_items": null,
      "align_self": null,
      "border": null,
      "bottom": null,
      "display": null,
      "flex": null,
      "flex_flow": null,
      "grid_area": null,
      "grid_auto_columns": null,
      "grid_auto_flow": null,
      "grid_auto_rows": null,
      "grid_column": null,
      "grid_gap": null,
      "grid_row": null,
      "grid_template_areas": null,
      "grid_template_columns": null,
      "grid_template_rows": null,
      "height": null,
      "justify_content": null,
      "justify_items": null,
      "left": null,
      "margin": null,
      "max_height": null,
      "max_width": null,
      "min_height": null,
      "min_width": null,
      "object_fit": null,
      "object_position": null,
      "order": null,
      "overflow": null,
      "overflow_x": null,
      "overflow_y": null,
      "padding": null,
      "right": null,
      "top": null,
      "visibility": null,
      "width": null
     }
    },
    "14ee8029e4f94115a62c7bca1f8bd648": {
     "model_module": "@jupyter-widgets/base",
     "model_module_version": "1.2.0",
     "model_name": "LayoutModel",
     "state": {
      "_model_module": "@jupyter-widgets/base",
      "_model_module_version": "1.2.0",
      "_model_name": "LayoutModel",
      "_view_count": null,
      "_view_module": "@jupyter-widgets/base",
      "_view_module_version": "1.2.0",
      "_view_name": "LayoutView",
      "align_content": null,
      "align_items": null,
      "align_self": null,
      "border": null,
      "bottom": null,
      "display": null,
      "flex": null,
      "flex_flow": null,
      "grid_area": null,
      "grid_auto_columns": null,
      "grid_auto_flow": null,
      "grid_auto_rows": null,
      "grid_column": null,
      "grid_gap": null,
      "grid_row": null,
      "grid_template_areas": null,
      "grid_template_columns": null,
      "grid_template_rows": null,
      "height": null,
      "justify_content": null,
      "justify_items": null,
      "left": null,
      "margin": null,
      "max_height": null,
      "max_width": null,
      "min_height": null,
      "min_width": null,
      "object_fit": null,
      "object_position": null,
      "order": null,
      "overflow": null,
      "overflow_x": null,
      "overflow_y": null,
      "padding": null,
      "right": null,
      "top": null,
      "visibility": null,
      "width": null
     }
    },
    "1d4223328b994e77a4fdc64df9d3c3f8": {
     "model_module": "@jupyter-widgets/controls",
     "model_module_version": "1.5.0",
     "model_name": "FloatProgressModel",
     "state": {
      "_dom_classes": [],
      "_model_module": "@jupyter-widgets/controls",
      "_model_module_version": "1.5.0",
      "_model_name": "FloatProgressModel",
      "_view_count": null,
      "_view_module": "@jupyter-widgets/controls",
      "_view_module_version": "1.5.0",
      "_view_name": "ProgressView",
      "bar_style": "success",
      "description": "",
      "description_tooltip": null,
      "layout": "IPY_MODEL_87a1b7eef5b44c2db2c7ee6a9bfc06fc",
      "max": 5148,
      "min": 0,
      "orientation": "horizontal",
      "style": "IPY_MODEL_decc825e294b4e65af698f1b97259496",
      "value": 5148
     }
    },
    "1ec71b1741054400a5308f08e45285f8": {
     "model_module": "@jupyter-widgets/base",
     "model_module_version": "1.2.0",
     "model_name": "LayoutModel",
     "state": {
      "_model_module": "@jupyter-widgets/base",
      "_model_module_version": "1.2.0",
      "_model_name": "LayoutModel",
      "_view_count": null,
      "_view_module": "@jupyter-widgets/base",
      "_view_module_version": "1.2.0",
      "_view_name": "LayoutView",
      "align_content": null,
      "align_items": null,
      "align_self": null,
      "border": null,
      "bottom": null,
      "display": null,
      "flex": null,
      "flex_flow": null,
      "grid_area": null,
      "grid_auto_columns": null,
      "grid_auto_flow": null,
      "grid_auto_rows": null,
      "grid_column": null,
      "grid_gap": null,
      "grid_row": null,
      "grid_template_areas": null,
      "grid_template_columns": null,
      "grid_template_rows": null,
      "height": null,
      "justify_content": null,
      "justify_items": null,
      "left": null,
      "margin": null,
      "max_height": null,
      "max_width": null,
      "min_height": null,
      "min_width": null,
      "object_fit": null,
      "object_position": null,
      "order": null,
      "overflow": null,
      "overflow_x": null,
      "overflow_y": null,
      "padding": null,
      "right": null,
      "top": null,
      "visibility": null,
      "width": null
     }
    },
    "2c4efc7f8a5743edb01136b2b110ddb3": {
     "model_module": "@jupyter-widgets/base",
     "model_module_version": "1.2.0",
     "model_name": "LayoutModel",
     "state": {
      "_model_module": "@jupyter-widgets/base",
      "_model_module_version": "1.2.0",
      "_model_name": "LayoutModel",
      "_view_count": null,
      "_view_module": "@jupyter-widgets/base",
      "_view_module_version": "1.2.0",
      "_view_name": "LayoutView",
      "align_content": null,
      "align_items": null,
      "align_self": null,
      "border": null,
      "bottom": null,
      "display": null,
      "flex": null,
      "flex_flow": null,
      "grid_area": null,
      "grid_auto_columns": null,
      "grid_auto_flow": null,
      "grid_auto_rows": null,
      "grid_column": null,
      "grid_gap": null,
      "grid_row": null,
      "grid_template_areas": null,
      "grid_template_columns": null,
      "grid_template_rows": null,
      "height": null,
      "justify_content": null,
      "justify_items": null,
      "left": null,
      "margin": null,
      "max_height": null,
      "max_width": null,
      "min_height": null,
      "min_width": null,
      "object_fit": null,
      "object_position": null,
      "order": null,
      "overflow": null,
      "overflow_x": null,
      "overflow_y": null,
      "padding": null,
      "right": null,
      "top": null,
      "visibility": null,
      "width": null
     }
    },
    "3046159ace494b69954d49edaf043a58": {
     "model_module": "@jupyter-widgets/controls",
     "model_module_version": "1.5.0",
     "model_name": "HTMLModel",
     "state": {
      "_dom_classes": [],
      "_model_module": "@jupyter-widgets/controls",
      "_model_module_version": "1.5.0",
      "_model_name": "HTMLModel",
      "_view_count": null,
      "_view_module": "@jupyter-widgets/controls",
      "_view_module_version": "1.5.0",
      "_view_name": "HTMLView",
      "description": "",
      "description_tooltip": null,
      "layout": "IPY_MODEL_c855099a3efb4522aad267305c38c863",
      "placeholder": "​",
      "style": "IPY_MODEL_81ee324a356d4c799257cc036a08f014",
      "value": ""
     }
    },
    "3b3f47a323e34c7c84faabc2a08ef123": {
     "model_module": "@jupyter-widgets/base",
     "model_module_version": "1.2.0",
     "model_name": "LayoutModel",
     "state": {
      "_model_module": "@jupyter-widgets/base",
      "_model_module_version": "1.2.0",
      "_model_name": "LayoutModel",
      "_view_count": null,
      "_view_module": "@jupyter-widgets/base",
      "_view_module_version": "1.2.0",
      "_view_name": "LayoutView",
      "align_content": null,
      "align_items": null,
      "align_self": null,
      "border": null,
      "bottom": null,
      "display": null,
      "flex": null,
      "flex_flow": null,
      "grid_area": null,
      "grid_auto_columns": null,
      "grid_auto_flow": null,
      "grid_auto_rows": null,
      "grid_column": null,
      "grid_gap": null,
      "grid_row": null,
      "grid_template_areas": null,
      "grid_template_columns": null,
      "grid_template_rows": null,
      "height": null,
      "justify_content": null,
      "justify_items": null,
      "left": null,
      "margin": null,
      "max_height": null,
      "max_width": null,
      "min_height": null,
      "min_width": null,
      "object_fit": null,
      "object_position": null,
      "order": null,
      "overflow": null,
      "overflow_x": null,
      "overflow_y": null,
      "padding": null,
      "right": null,
      "top": null,
      "visibility": null,
      "width": null
     }
    },
    "3e3280589f2145faaa10af5342be5b7e": {
     "model_module": "@jupyter-widgets/controls",
     "model_module_version": "1.5.0",
     "model_name": "HBoxModel",
     "state": {
      "_dom_classes": [],
      "_model_module": "@jupyter-widgets/controls",
      "_model_module_version": "1.5.0",
      "_model_name": "HBoxModel",
      "_view_count": null,
      "_view_module": "@jupyter-widgets/controls",
      "_view_module_version": "1.5.0",
      "_view_name": "HBoxView",
      "box_style": "",
      "children": [
       "IPY_MODEL_4c5db5bd4bb341ab8359e04bebc19e94",
       "IPY_MODEL_1d4223328b994e77a4fdc64df9d3c3f8",
       "IPY_MODEL_bfddd038d7dc4e1da9b8b83f226b5cec"
      ],
      "layout": "IPY_MODEL_3b3f47a323e34c7c84faabc2a08ef123"
     }
    },
    "4305a3595fce43fbadb51c8e45752c06": {
     "model_module": "@jupyter-widgets/controls",
     "model_module_version": "1.5.0",
     "model_name": "FloatProgressModel",
     "state": {
      "_dom_classes": [],
      "_model_module": "@jupyter-widgets/controls",
      "_model_module_version": "1.5.0",
      "_model_name": "FloatProgressModel",
      "_view_count": null,
      "_view_module": "@jupyter-widgets/controls",
      "_view_module_version": "1.5.0",
      "_view_name": "ProgressView",
      "bar_style": "success",
      "description": "",
      "description_tooltip": null,
      "layout": "IPY_MODEL_baa3829a5cd84d59a206b03a535b50b9",
      "max": 4422102,
      "min": 0,
      "orientation": "horizontal",
      "style": "IPY_MODEL_d6cda2003c374c06845a1df802fccda7",
      "value": 4422102
     }
    },
    "4c5db5bd4bb341ab8359e04bebc19e94": {
     "model_module": "@jupyter-widgets/controls",
     "model_module_version": "1.5.0",
     "model_name": "HTMLModel",
     "state": {
      "_dom_classes": [],
      "_model_module": "@jupyter-widgets/controls",
      "_model_module_version": "1.5.0",
      "_model_name": "HTMLModel",
      "_view_count": null,
      "_view_module": "@jupyter-widgets/controls",
      "_view_module_version": "1.5.0",
      "_view_name": "HTMLView",
      "description": "",
      "description_tooltip": null,
      "layout": "IPY_MODEL_7024e26b11094240aa4bb4285fac4f31",
      "placeholder": "​",
      "style": "IPY_MODEL_e23be886ecf74827863858fbd7630321",
      "value": ""
     }
    },
    "52b7e41a21944074be571f55551f753d": {
     "model_module": "@jupyter-widgets/controls",
     "model_module_version": "1.5.0",
     "model_name": "HBoxModel",
     "state": {
      "_dom_classes": [],
      "_model_module": "@jupyter-widgets/controls",
      "_model_module_version": "1.5.0",
      "_model_name": "HBoxModel",
      "_view_count": null,
      "_view_module": "@jupyter-widgets/controls",
      "_view_module_version": "1.5.0",
      "_view_name": "HBoxView",
      "box_style": "",
      "children": [
       "IPY_MODEL_74d28e15a63a4a8f848f10cc9bbb4d41",
       "IPY_MODEL_02084f880ff04619a32fe7f184a419d0",
       "IPY_MODEL_77aafa94277b487886a0441ce8e8df2d"
      ],
      "layout": "IPY_MODEL_1ec71b1741054400a5308f08e45285f8"
     }
    },
    "5b9d4d1419c84148bc8628f1464fd35d": {
     "model_module": "@jupyter-widgets/controls",
     "model_module_version": "1.5.0",
     "model_name": "ProgressStyleModel",
     "state": {
      "_model_module": "@jupyter-widgets/controls",
      "_model_module_version": "1.5.0",
      "_model_name": "ProgressStyleModel",
      "_view_count": null,
      "_view_module": "@jupyter-widgets/base",
      "_view_module_version": "1.2.0",
      "_view_name": "StyleView",
      "bar_color": null,
      "description_width": ""
     }
    },
    "69c6942d7a4e444fabf428f0d51d8f50": {
     "model_module": "@jupyter-widgets/controls",
     "model_module_version": "1.5.0",
     "model_name": "HTMLModel",
     "state": {
      "_dom_classes": [],
      "_model_module": "@jupyter-widgets/controls",
      "_model_module_version": "1.5.0",
      "_model_name": "HTMLModel",
      "_view_count": null,
      "_view_module": "@jupyter-widgets/controls",
      "_view_module_version": "1.5.0",
      "_view_name": "HTMLView",
      "description": "",
      "description_tooltip": null,
      "layout": "IPY_MODEL_146e1926c8d34773b109a1b37022028a",
      "placeholder": "​",
      "style": "IPY_MODEL_91c509bb6fc14baeb2a1fc6d172e9976",
      "value": ""
     }
    },
    "6f7e2aa05ca64b91b592b48abefb007c": {
     "model_module": "@jupyter-widgets/base",
     "model_module_version": "1.2.0",
     "model_name": "LayoutModel",
     "state": {
      "_model_module": "@jupyter-widgets/base",
      "_model_module_version": "1.2.0",
      "_model_name": "LayoutModel",
      "_view_count": null,
      "_view_module": "@jupyter-widgets/base",
      "_view_module_version": "1.2.0",
      "_view_name": "LayoutView",
      "align_content": null,
      "align_items": null,
      "align_self": null,
      "border": null,
      "bottom": null,
      "display": null,
      "flex": null,
      "flex_flow": null,
      "grid_area": null,
      "grid_auto_columns": null,
      "grid_auto_flow": null,
      "grid_auto_rows": null,
      "grid_column": null,
      "grid_gap": null,
      "grid_row": null,
      "grid_template_areas": null,
      "grid_template_columns": null,
      "grid_template_rows": null,
      "height": null,
      "justify_content": null,
      "justify_items": null,
      "left": null,
      "margin": null,
      "max_height": null,
      "max_width": null,
      "min_height": null,
      "min_width": null,
      "object_fit": null,
      "object_position": null,
      "order": null,
      "overflow": null,
      "overflow_x": null,
      "overflow_y": null,
      "padding": null,
      "right": null,
      "top": null,
      "visibility": null,
      "width": null
     }
    },
    "7024e26b11094240aa4bb4285fac4f31": {
     "model_module": "@jupyter-widgets/base",
     "model_module_version": "1.2.0",
     "model_name": "LayoutModel",
     "state": {
      "_model_module": "@jupyter-widgets/base",
      "_model_module_version": "1.2.0",
      "_model_name": "LayoutModel",
      "_view_count": null,
      "_view_module": "@jupyter-widgets/base",
      "_view_module_version": "1.2.0",
      "_view_name": "LayoutView",
      "align_content": null,
      "align_items": null,
      "align_self": null,
      "border": null,
      "bottom": null,
      "display": null,
      "flex": null,
      "flex_flow": null,
      "grid_area": null,
      "grid_auto_columns": null,
      "grid_auto_flow": null,
      "grid_auto_rows": null,
      "grid_column": null,
      "grid_gap": null,
      "grid_row": null,
      "grid_template_areas": null,
      "grid_template_columns": null,
      "grid_template_rows": null,
      "height": null,
      "justify_content": null,
      "justify_items": null,
      "left": null,
      "margin": null,
      "max_height": null,
      "max_width": null,
      "min_height": null,
      "min_width": null,
      "object_fit": null,
      "object_position": null,
      "order": null,
      "overflow": null,
      "overflow_x": null,
      "overflow_y": null,
      "padding": null,
      "right": null,
      "top": null,
      "visibility": null,
      "width": null
     }
    },
    "74d28e15a63a4a8f848f10cc9bbb4d41": {
     "model_module": "@jupyter-widgets/controls",
     "model_module_version": "1.5.0",
     "model_name": "HTMLModel",
     "state": {
      "_dom_classes": [],
      "_model_module": "@jupyter-widgets/controls",
      "_model_module_version": "1.5.0",
      "_model_name": "HTMLModel",
      "_view_count": null,
      "_view_module": "@jupyter-widgets/controls",
      "_view_module_version": "1.5.0",
      "_view_name": "HTMLView",
      "description": "",
      "description_tooltip": null,
      "layout": "IPY_MODEL_104a06289af944a08a7ff1b5c96a61db",
      "placeholder": "​",
      "style": "IPY_MODEL_99f8538055484fad8d7b9c183b49ff35",
      "value": ""
     }
    },
    "77aafa94277b487886a0441ce8e8df2d": {
     "model_module": "@jupyter-widgets/controls",
     "model_module_version": "1.5.0",
     "model_name": "HTMLModel",
     "state": {
      "_dom_classes": [],
      "_model_module": "@jupyter-widgets/controls",
      "_model_module_version": "1.5.0",
      "_model_name": "HTMLModel",
      "_view_count": null,
      "_view_module": "@jupyter-widgets/controls",
      "_view_module_version": "1.5.0",
      "_view_name": "HTMLView",
      "description": "",
      "description_tooltip": null,
      "layout": "IPY_MODEL_d2022ad107144a8088d4b005882ef123",
      "placeholder": "​",
      "style": "IPY_MODEL_f4756db1a2364b2d89d9da13d299155a",
      "value": " 29696/? [00:00&lt;00:00, 126596.38it/s]"
     }
    },
    "79336a4f20074a80a850e7ea413a2fa2": {
     "model_module": "@jupyter-widgets/controls",
     "model_module_version": "1.5.0",
     "model_name": "DescriptionStyleModel",
     "state": {
      "_model_module": "@jupyter-widgets/controls",
      "_model_module_version": "1.5.0",
      "_model_name": "DescriptionStyleModel",
      "_view_count": null,
      "_view_module": "@jupyter-widgets/base",
      "_view_module_version": "1.2.0",
      "_view_name": "StyleView",
      "description_width": ""
     }
    },
    "81ee324a356d4c799257cc036a08f014": {
     "model_module": "@jupyter-widgets/controls",
     "model_module_version": "1.5.0",
     "model_name": "DescriptionStyleModel",
     "state": {
      "_model_module": "@jupyter-widgets/controls",
      "_model_module_version": "1.5.0",
      "_model_name": "DescriptionStyleModel",
      "_view_count": null,
      "_view_module": "@jupyter-widgets/base",
      "_view_module_version": "1.2.0",
      "_view_name": "StyleView",
      "description_width": ""
     }
    },
    "844d339599a542a3b4632756c8483d5b": {
     "model_module": "@jupyter-widgets/controls",
     "model_module_version": "1.5.0",
     "model_name": "DescriptionStyleModel",
     "state": {
      "_model_module": "@jupyter-widgets/controls",
      "_model_module_version": "1.5.0",
      "_model_name": "DescriptionStyleModel",
      "_view_count": null,
      "_view_module": "@jupyter-widgets/base",
      "_view_module_version": "1.2.0",
      "_view_name": "StyleView",
      "description_width": ""
     }
    },
    "87a1b7eef5b44c2db2c7ee6a9bfc06fc": {
     "model_module": "@jupyter-widgets/base",
     "model_module_version": "1.2.0",
     "model_name": "LayoutModel",
     "state": {
      "_model_module": "@jupyter-widgets/base",
      "_model_module_version": "1.2.0",
      "_model_name": "LayoutModel",
      "_view_count": null,
      "_view_module": "@jupyter-widgets/base",
      "_view_module_version": "1.2.0",
      "_view_name": "LayoutView",
      "align_content": null,
      "align_items": null,
      "align_self": null,
      "border": null,
      "bottom": null,
      "display": null,
      "flex": null,
      "flex_flow": null,
      "grid_area": null,
      "grid_auto_columns": null,
      "grid_auto_flow": null,
      "grid_auto_rows": null,
      "grid_column": null,
      "grid_gap": null,
      "grid_row": null,
      "grid_template_areas": null,
      "grid_template_columns": null,
      "grid_template_rows": null,
      "height": null,
      "justify_content": null,
      "justify_items": null,
      "left": null,
      "margin": null,
      "max_height": null,
      "max_width": null,
      "min_height": null,
      "min_width": null,
      "object_fit": null,
      "object_position": null,
      "order": null,
      "overflow": null,
      "overflow_x": null,
      "overflow_y": null,
      "padding": null,
      "right": null,
      "top": null,
      "visibility": null,
      "width": null
     }
    },
    "91c509bb6fc14baeb2a1fc6d172e9976": {
     "model_module": "@jupyter-widgets/controls",
     "model_module_version": "1.5.0",
     "model_name": "DescriptionStyleModel",
     "state": {
      "_model_module": "@jupyter-widgets/controls",
      "_model_module_version": "1.5.0",
      "_model_name": "DescriptionStyleModel",
      "_view_count": null,
      "_view_module": "@jupyter-widgets/base",
      "_view_module_version": "1.2.0",
      "_view_name": "StyleView",
      "description_width": ""
     }
    },
    "9549b357bc804943a3080b5a5f4599b7": {
     "model_module": "@jupyter-widgets/controls",
     "model_module_version": "1.5.0",
     "model_name": "HBoxModel",
     "state": {
      "_dom_classes": [],
      "_model_module": "@jupyter-widgets/controls",
      "_model_module_version": "1.5.0",
      "_model_name": "HBoxModel",
      "_view_count": null,
      "_view_module": "@jupyter-widgets/controls",
      "_view_module_version": "1.5.0",
      "_view_name": "HBoxView",
      "box_style": "",
      "children": [
       "IPY_MODEL_3046159ace494b69954d49edaf043a58",
       "IPY_MODEL_99fb73a362af4aa295c26fac3ecad8a3",
       "IPY_MODEL_a89a59e4882a45839e80112b2bfa8217"
      ],
      "layout": "IPY_MODEL_14ee8029e4f94115a62c7bca1f8bd648"
     }
    },
    "99f8538055484fad8d7b9c183b49ff35": {
     "model_module": "@jupyter-widgets/controls",
     "model_module_version": "1.5.0",
     "model_name": "DescriptionStyleModel",
     "state": {
      "_model_module": "@jupyter-widgets/controls",
      "_model_module_version": "1.5.0",
      "_model_name": "DescriptionStyleModel",
      "_view_count": null,
      "_view_module": "@jupyter-widgets/base",
      "_view_module_version": "1.2.0",
      "_view_name": "StyleView",
      "description_width": ""
     }
    },
    "99fb73a362af4aa295c26fac3ecad8a3": {
     "model_module": "@jupyter-widgets/controls",
     "model_module_version": "1.5.0",
     "model_name": "FloatProgressModel",
     "state": {
      "_dom_classes": [],
      "_model_module": "@jupyter-widgets/controls",
      "_model_module_version": "1.5.0",
      "_model_name": "FloatProgressModel",
      "_view_count": null,
      "_view_module": "@jupyter-widgets/controls",
      "_view_module_version": "1.5.0",
      "_view_name": "ProgressView",
      "bar_style": "success",
      "description": "",
      "description_tooltip": null,
      "layout": "IPY_MODEL_a2231c29e64a48bba27e7c0c3c67e491",
      "max": 26421880,
      "min": 0,
      "orientation": "horizontal",
      "style": "IPY_MODEL_5b9d4d1419c84148bc8628f1464fd35d",
      "value": 26421880
     }
    },
    "a2231c29e64a48bba27e7c0c3c67e491": {
     "model_module": "@jupyter-widgets/base",
     "model_module_version": "1.2.0",
     "model_name": "LayoutModel",
     "state": {
      "_model_module": "@jupyter-widgets/base",
      "_model_module_version": "1.2.0",
      "_model_name": "LayoutModel",
      "_view_count": null,
      "_view_module": "@jupyter-widgets/base",
      "_view_module_version": "1.2.0",
      "_view_name": "LayoutView",
      "align_content": null,
      "align_items": null,
      "align_self": null,
      "border": null,
      "bottom": null,
      "display": null,
      "flex": null,
      "flex_flow": null,
      "grid_area": null,
      "grid_auto_columns": null,
      "grid_auto_flow": null,
      "grid_auto_rows": null,
      "grid_column": null,
      "grid_gap": null,
      "grid_row": null,
      "grid_template_areas": null,
      "grid_template_columns": null,
      "grid_template_rows": null,
      "height": null,
      "justify_content": null,
      "justify_items": null,
      "left": null,
      "margin": null,
      "max_height": null,
      "max_width": null,
      "min_height": null,
      "min_width": null,
      "object_fit": null,
      "object_position": null,
      "order": null,
      "overflow": null,
      "overflow_x": null,
      "overflow_y": null,
      "padding": null,
      "right": null,
      "top": null,
      "visibility": null,
      "width": null
     }
    },
    "a6e4afc62b4e438eaba0a360c7b36347": {
     "model_module": "@jupyter-widgets/base",
     "model_module_version": "1.2.0",
     "model_name": "LayoutModel",
     "state": {
      "_model_module": "@jupyter-widgets/base",
      "_model_module_version": "1.2.0",
      "_model_name": "LayoutModel",
      "_view_count": null,
      "_view_module": "@jupyter-widgets/base",
      "_view_module_version": "1.2.0",
      "_view_name": "LayoutView",
      "align_content": null,
      "align_items": null,
      "align_self": null,
      "border": null,
      "bottom": null,
      "display": null,
      "flex": null,
      "flex_flow": null,
      "grid_area": null,
      "grid_auto_columns": null,
      "grid_auto_flow": null,
      "grid_auto_rows": null,
      "grid_column": null,
      "grid_gap": null,
      "grid_row": null,
      "grid_template_areas": null,
      "grid_template_columns": null,
      "grid_template_rows": null,
      "height": null,
      "justify_content": null,
      "justify_items": null,
      "left": null,
      "margin": null,
      "max_height": null,
      "max_width": null,
      "min_height": null,
      "min_width": null,
      "object_fit": null,
      "object_position": null,
      "order": null,
      "overflow": null,
      "overflow_x": null,
      "overflow_y": null,
      "padding": null,
      "right": null,
      "top": null,
      "visibility": null,
      "width": null
     }
    },
    "a89a59e4882a45839e80112b2bfa8217": {
     "model_module": "@jupyter-widgets/controls",
     "model_module_version": "1.5.0",
     "model_name": "HTMLModel",
     "state": {
      "_dom_classes": [],
      "_model_module": "@jupyter-widgets/controls",
      "_model_module_version": "1.5.0",
      "_model_name": "HTMLModel",
      "_view_count": null,
      "_view_module": "@jupyter-widgets/controls",
      "_view_module_version": "1.5.0",
      "_view_name": "HTMLView",
      "description": "",
      "description_tooltip": null,
      "layout": "IPY_MODEL_ba7af3200d5143a4bfb94efea0f6985a",
      "placeholder": "​",
      "style": "IPY_MODEL_baa05cad07d54757ae303246e3c7ddec",
      "value": " 26422272/? [00:01&lt;00:00, 22137643.57it/s]"
     }
    },
    "ba7af3200d5143a4bfb94efea0f6985a": {
     "model_module": "@jupyter-widgets/base",
     "model_module_version": "1.2.0",
     "model_name": "LayoutModel",
     "state": {
      "_model_module": "@jupyter-widgets/base",
      "_model_module_version": "1.2.0",
      "_model_name": "LayoutModel",
      "_view_count": null,
      "_view_module": "@jupyter-widgets/base",
      "_view_module_version": "1.2.0",
      "_view_name": "LayoutView",
      "align_content": null,
      "align_items": null,
      "align_self": null,
      "border": null,
      "bottom": null,
      "display": null,
      "flex": null,
      "flex_flow": null,
      "grid_area": null,
      "grid_auto_columns": null,
      "grid_auto_flow": null,
      "grid_auto_rows": null,
      "grid_column": null,
      "grid_gap": null,
      "grid_row": null,
      "grid_template_areas": null,
      "grid_template_columns": null,
      "grid_template_rows": null,
      "height": null,
      "justify_content": null,
      "justify_items": null,
      "left": null,
      "margin": null,
      "max_height": null,
      "max_width": null,
      "min_height": null,
      "min_width": null,
      "object_fit": null,
      "object_position": null,
      "order": null,
      "overflow": null,
      "overflow_x": null,
      "overflow_y": null,
      "padding": null,
      "right": null,
      "top": null,
      "visibility": null,
      "width": null
     }
    },
    "baa05cad07d54757ae303246e3c7ddec": {
     "model_module": "@jupyter-widgets/controls",
     "model_module_version": "1.5.0",
     "model_name": "DescriptionStyleModel",
     "state": {
      "_model_module": "@jupyter-widgets/controls",
      "_model_module_version": "1.5.0",
      "_model_name": "DescriptionStyleModel",
      "_view_count": null,
      "_view_module": "@jupyter-widgets/base",
      "_view_module_version": "1.2.0",
      "_view_name": "StyleView",
      "description_width": ""
     }
    },
    "baa3829a5cd84d59a206b03a535b50b9": {
     "model_module": "@jupyter-widgets/base",
     "model_module_version": "1.2.0",
     "model_name": "LayoutModel",
     "state": {
      "_model_module": "@jupyter-widgets/base",
      "_model_module_version": "1.2.0",
      "_model_name": "LayoutModel",
      "_view_count": null,
      "_view_module": "@jupyter-widgets/base",
      "_view_module_version": "1.2.0",
      "_view_name": "LayoutView",
      "align_content": null,
      "align_items": null,
      "align_self": null,
      "border": null,
      "bottom": null,
      "display": null,
      "flex": null,
      "flex_flow": null,
      "grid_area": null,
      "grid_auto_columns": null,
      "grid_auto_flow": null,
      "grid_auto_rows": null,
      "grid_column": null,
      "grid_gap": null,
      "grid_row": null,
      "grid_template_areas": null,
      "grid_template_columns": null,
      "grid_template_rows": null,
      "height": null,
      "justify_content": null,
      "justify_items": null,
      "left": null,
      "margin": null,
      "max_height": null,
      "max_width": null,
      "min_height": null,
      "min_width": null,
      "object_fit": null,
      "object_position": null,
      "order": null,
      "overflow": null,
      "overflow_x": null,
      "overflow_y": null,
      "padding": null,
      "right": null,
      "top": null,
      "visibility": null,
      "width": null
     }
    },
    "bf0e1e7fa5344284a22d94ecd8b4ffac": {
     "model_module": "@jupyter-widgets/controls",
     "model_module_version": "1.5.0",
     "model_name": "ProgressStyleModel",
     "state": {
      "_model_module": "@jupyter-widgets/controls",
      "_model_module_version": "1.5.0",
      "_model_name": "ProgressStyleModel",
      "_view_count": null,
      "_view_module": "@jupyter-widgets/base",
      "_view_module_version": "1.2.0",
      "_view_name": "StyleView",
      "bar_color": null,
      "description_width": ""
     }
    },
    "bfddd038d7dc4e1da9b8b83f226b5cec": {
     "model_module": "@jupyter-widgets/controls",
     "model_module_version": "1.5.0",
     "model_name": "HTMLModel",
     "state": {
      "_dom_classes": [],
      "_model_module": "@jupyter-widgets/controls",
      "_model_module_version": "1.5.0",
      "_model_name": "HTMLModel",
      "_view_count": null,
      "_view_module": "@jupyter-widgets/controls",
      "_view_module_version": "1.5.0",
      "_view_name": "HTMLView",
      "description": "",
      "description_tooltip": null,
      "layout": "IPY_MODEL_a6e4afc62b4e438eaba0a360c7b36347",
      "placeholder": "​",
      "style": "IPY_MODEL_844d339599a542a3b4632756c8483d5b",
      "value": " 6144/? [00:00&lt;00:00, 177260.68it/s]"
     }
    },
    "c855099a3efb4522aad267305c38c863": {
     "model_module": "@jupyter-widgets/base",
     "model_module_version": "1.2.0",
     "model_name": "LayoutModel",
     "state": {
      "_model_module": "@jupyter-widgets/base",
      "_model_module_version": "1.2.0",
      "_model_name": "LayoutModel",
      "_view_count": null,
      "_view_module": "@jupyter-widgets/base",
      "_view_module_version": "1.2.0",
      "_view_name": "LayoutView",
      "align_content": null,
      "align_items": null,
      "align_self": null,
      "border": null,
      "bottom": null,
      "display": null,
      "flex": null,
      "flex_flow": null,
      "grid_area": null,
      "grid_auto_columns": null,
      "grid_auto_flow": null,
      "grid_auto_rows": null,
      "grid_column": null,
      "grid_gap": null,
      "grid_row": null,
      "grid_template_areas": null,
      "grid_template_columns": null,
      "grid_template_rows": null,
      "height": null,
      "justify_content": null,
      "justify_items": null,
      "left": null,
      "margin": null,
      "max_height": null,
      "max_width": null,
      "min_height": null,
      "min_width": null,
      "object_fit": null,
      "object_position": null,
      "order": null,
      "overflow": null,
      "overflow_x": null,
      "overflow_y": null,
      "padding": null,
      "right": null,
      "top": null,
      "visibility": null,
      "width": null
     }
    },
    "d2022ad107144a8088d4b005882ef123": {
     "model_module": "@jupyter-widgets/base",
     "model_module_version": "1.2.0",
     "model_name": "LayoutModel",
     "state": {
      "_model_module": "@jupyter-widgets/base",
      "_model_module_version": "1.2.0",
      "_model_name": "LayoutModel",
      "_view_count": null,
      "_view_module": "@jupyter-widgets/base",
      "_view_module_version": "1.2.0",
      "_view_name": "LayoutView",
      "align_content": null,
      "align_items": null,
      "align_self": null,
      "border": null,
      "bottom": null,
      "display": null,
      "flex": null,
      "flex_flow": null,
      "grid_area": null,
      "grid_auto_columns": null,
      "grid_auto_flow": null,
      "grid_auto_rows": null,
      "grid_column": null,
      "grid_gap": null,
      "grid_row": null,
      "grid_template_areas": null,
      "grid_template_columns": null,
      "grid_template_rows": null,
      "height": null,
      "justify_content": null,
      "justify_items": null,
      "left": null,
      "margin": null,
      "max_height": null,
      "max_width": null,
      "min_height": null,
      "min_width": null,
      "object_fit": null,
      "object_position": null,
      "order": null,
      "overflow": null,
      "overflow_x": null,
      "overflow_y": null,
      "padding": null,
      "right": null,
      "top": null,
      "visibility": null,
      "width": null
     }
    },
    "d6cda2003c374c06845a1df802fccda7": {
     "model_module": "@jupyter-widgets/controls",
     "model_module_version": "1.5.0",
     "model_name": "ProgressStyleModel",
     "state": {
      "_model_module": "@jupyter-widgets/controls",
      "_model_module_version": "1.5.0",
      "_model_name": "ProgressStyleModel",
      "_view_count": null,
      "_view_module": "@jupyter-widgets/base",
      "_view_module_version": "1.2.0",
      "_view_name": "StyleView",
      "bar_color": null,
      "description_width": ""
     }
    },
    "decc825e294b4e65af698f1b97259496": {
     "model_module": "@jupyter-widgets/controls",
     "model_module_version": "1.5.0",
     "model_name": "ProgressStyleModel",
     "state": {
      "_model_module": "@jupyter-widgets/controls",
      "_model_module_version": "1.5.0",
      "_model_name": "ProgressStyleModel",
      "_view_count": null,
      "_view_module": "@jupyter-widgets/base",
      "_view_module_version": "1.2.0",
      "_view_name": "StyleView",
      "bar_color": null,
      "description_width": ""
     }
    },
    "e23be886ecf74827863858fbd7630321": {
     "model_module": "@jupyter-widgets/controls",
     "model_module_version": "1.5.0",
     "model_name": "DescriptionStyleModel",
     "state": {
      "_model_module": "@jupyter-widgets/controls",
      "_model_module_version": "1.5.0",
      "_model_name": "DescriptionStyleModel",
      "_view_count": null,
      "_view_module": "@jupyter-widgets/base",
      "_view_module_version": "1.2.0",
      "_view_name": "StyleView",
      "description_width": ""
     }
    },
    "e74c68150fa04da7bb7a7eccaab72933": {
     "model_module": "@jupyter-widgets/base",
     "model_module_version": "1.2.0",
     "model_name": "LayoutModel",
     "state": {
      "_model_module": "@jupyter-widgets/base",
      "_model_module_version": "1.2.0",
      "_model_name": "LayoutModel",
      "_view_count": null,
      "_view_module": "@jupyter-widgets/base",
      "_view_module_version": "1.2.0",
      "_view_name": "LayoutView",
      "align_content": null,
      "align_items": null,
      "align_self": null,
      "border": null,
      "bottom": null,
      "display": null,
      "flex": null,
      "flex_flow": null,
      "grid_area": null,
      "grid_auto_columns": null,
      "grid_auto_flow": null,
      "grid_auto_rows": null,
      "grid_column": null,
      "grid_gap": null,
      "grid_row": null,
      "grid_template_areas": null,
      "grid_template_columns": null,
      "grid_template_rows": null,
      "height": null,
      "justify_content": null,
      "justify_items": null,
      "left": null,
      "margin": null,
      "max_height": null,
      "max_width": null,
      "min_height": null,
      "min_width": null,
      "object_fit": null,
      "object_position": null,
      "order": null,
      "overflow": null,
      "overflow_x": null,
      "overflow_y": null,
      "padding": null,
      "right": null,
      "top": null,
      "visibility": null,
      "width": null
     }
    },
    "f4756db1a2364b2d89d9da13d299155a": {
     "model_module": "@jupyter-widgets/controls",
     "model_module_version": "1.5.0",
     "model_name": "DescriptionStyleModel",
     "state": {
      "_model_module": "@jupyter-widgets/controls",
      "_model_module_version": "1.5.0",
      "_model_name": "DescriptionStyleModel",
      "_view_count": null,
      "_view_module": "@jupyter-widgets/base",
      "_view_module_version": "1.2.0",
      "_view_name": "StyleView",
      "description_width": ""
     }
    }
   }
  }
 },
 "nbformat": 4,
 "nbformat_minor": 1
}
